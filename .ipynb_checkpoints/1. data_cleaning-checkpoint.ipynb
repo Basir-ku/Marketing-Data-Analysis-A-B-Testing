{
 "cells": [
  {
   "cell_type": "code",
   "execution_count": 31,
   "id": "fde72950-390c-4df0-9dad-a235cabcd129",
   "metadata": {},
   "outputs": [],
   "source": [
    "import pandas as pd\n",
    "import pickle\n",
    "\n",
    "marketing = pd.read_csv(\"marketing.csv\", \n",
    "                        parse_dates=['date_served', 'date_subscribed', 'date_canceled'], \n",
    "                        date_format='%m/%d/%y')"
   ]
  },
  {
   "cell_type": "markdown",
   "id": "bb64a43f-ea38-4acb-b842-4141b1bf68e5",
   "metadata": {},
   "source": [
    "### Checking the unique values of object columns "
   ]
  },
  {
   "cell_type": "code",
   "execution_count": 34,
   "id": "4db654ed-f752-46eb-ad8c-571f86cd0e76",
   "metadata": {},
   "outputs": [
    {
     "name": "stdout",
     "output_type": "stream",
     "text": [
      "Unique values in column 'user_id':\n",
      "['a100000029' 'a100000030' 'a100000031' ... 'a100007292' 'a100007293'\n",
      " 'a100007294']\n",
      "\n",
      "\n",
      "Unique values in column 'marketing_channel':\n",
      "['House Ads' 'Push' 'Facebook' 'Instagram' 'Email' nan]\n",
      "\n",
      "\n",
      "Unique values in column 'variant':\n",
      "['personalization' 'control']\n",
      "\n",
      "\n",
      "Unique values in column 'converted':\n",
      "[True False nan]\n",
      "\n",
      "\n",
      "Unique values in column 'language_displayed':\n",
      "['English' 'German' 'Arabic' 'Spanish']\n",
      "\n",
      "\n",
      "Unique values in column 'language_preferred':\n",
      "['English' 'German' 'Arabic' 'Spanish']\n",
      "\n",
      "\n",
      "Unique values in column 'age_group':\n",
      "['0-18 years' '19-24 years' '24-30 years' '30-36 years' '36-45 years'\n",
      " '45-55 years' '55+ years']\n",
      "\n",
      "\n",
      "Unique values in column 'subscribing_channel':\n",
      "['House Ads' 'Email' 'Push' 'Facebook' 'Instagram' nan]\n",
      "\n",
      "\n",
      "Unique values in column 'is_retained':\n",
      "[True False nan]\n",
      "\n",
      "\n"
     ]
    }
   ],
   "source": [
    "# Iterate through the columns and check if the data type is object\n",
    "for column in marketing.columns:\n",
    "    if marketing[column].dtype == 'object':\n",
    "        print(f\"Unique values in column '{column}':\")\n",
    "        print(marketing[column].unique())\n",
    "        print(\"\\n\")"
   ]
  },
  {
   "cell_type": "markdown",
   "id": "1162050d-84a1-453e-aaa2-74d075bb2bc8",
   "metadata": {},
   "source": [
    "### Coverting object columns to Categorical and is_retained and converted coulmns to bool"
   ]
  },
  {
   "cell_type": "code",
   "execution_count": 41,
   "id": "b5fce0bb-2301-4a72-ba42-8c4fec5fea03",
   "metadata": {},
   "outputs": [],
   "source": [
    "# List of columns to convert to 'category'\n",
    "cols_to_category = ['marketing_channel', 'variant', 'language_displayed', 'language_preferred', 'age_group', 'subscribing_channel']\n",
    "\n",
    "# Convert the specified columns to 'category'\n",
    "marketing[cols_to_category] = marketing[cols_to_category].astype('category')\n",
    "\n",
    "# List of columns to convert to 'bool'\n",
    "cols_to_bool = ['converted', 'is_retained']\n",
    "marketing[cols_to_bool] = marketing[cols_to_bool].astype('bool')"
   ]
  },
  {
   "cell_type": "code",
   "execution_count": 43,
   "id": "94ce8ee5-0af5-476b-9efb-88745c278771",
   "metadata": {},
   "outputs": [],
   "source": [
    "#marketing.to_csv('marketing_cleaned.csv', index=False) "
   ]
  },
  {
   "cell_type": "code",
   "execution_count": null,
   "id": "2f792c99-383f-4792-96b0-abe4f8c78478",
   "metadata": {},
   "outputs": [],
   "source": []
  },
  {
   "cell_type": "code",
   "execution_count": null,
   "id": "1b96ab41-0437-4aeb-9d12-47e76e979e22",
   "metadata": {},
   "outputs": [],
   "source": []
  },
  {
   "cell_type": "code",
   "execution_count": null,
   "id": "66048612-7836-4513-8802-673651957a36",
   "metadata": {},
   "outputs": [],
   "source": []
  },
  {
   "cell_type": "code",
   "execution_count": null,
   "id": "e50ebce3-f196-491d-8d6d-37eb6f51fdf1",
   "metadata": {},
   "outputs": [],
   "source": []
  },
  {
   "cell_type": "code",
   "execution_count": null,
   "id": "676c802d-6118-4cb3-963e-e5e7c17c6b62",
   "metadata": {},
   "outputs": [],
   "source": []
  },
  {
   "cell_type": "code",
   "execution_count": null,
   "id": "83a0506c-f293-499d-b070-4a894c6ba8d3",
   "metadata": {},
   "outputs": [],
   "source": []
  },
  {
   "cell_type": "code",
   "execution_count": null,
   "id": "5a10af03-21eb-4270-ae2b-c3946b917d1b",
   "metadata": {},
   "outputs": [],
   "source": []
  },
  {
   "cell_type": "code",
   "execution_count": null,
   "id": "ce7af3f9-bdff-4da7-a7f7-487526a987a5",
   "metadata": {},
   "outputs": [],
   "source": []
  },
  {
   "cell_type": "code",
   "execution_count": null,
   "id": "c876f5fa-c104-4eba-96c5-a3551192c47f",
   "metadata": {},
   "outputs": [],
   "source": []
  },
  {
   "cell_type": "code",
   "execution_count": null,
   "id": "5d2d21ee-ea46-417d-b602-0c0b4d3dae44",
   "metadata": {},
   "outputs": [],
   "source": []
  },
  {
   "cell_type": "code",
   "execution_count": null,
   "id": "c32e0191-0779-4a4a-890b-b09f2c419675",
   "metadata": {},
   "outputs": [],
   "source": []
  },
  {
   "cell_type": "code",
   "execution_count": null,
   "id": "1838e4c2-0eb3-4acc-a01d-fba72b10e5f1",
   "metadata": {},
   "outputs": [],
   "source": []
  },
  {
   "cell_type": "code",
   "execution_count": null,
   "id": "895db06c-7d64-4aae-b1e2-58baf6dd94ed",
   "metadata": {},
   "outputs": [],
   "source": []
  },
  {
   "cell_type": "code",
   "execution_count": null,
   "id": "eb314e14-1523-4e3d-b9af-37fb36309a14",
   "metadata": {},
   "outputs": [],
   "source": []
  },
  {
   "cell_type": "code",
   "execution_count": null,
   "id": "f5cd7c55-bedc-4408-99d1-e2e292650839",
   "metadata": {},
   "outputs": [],
   "source": []
  }
 ],
 "metadata": {
  "kernelspec": {
   "display_name": "Python 3 (ipykernel)",
   "language": "python",
   "name": "python3"
  },
  "language_info": {
   "codemirror_mode": {
    "name": "ipython",
    "version": 3
   },
   "file_extension": ".py",
   "mimetype": "text/x-python",
   "name": "python",
   "nbconvert_exporter": "python",
   "pygments_lexer": "ipython3",
   "version": "3.12.4"
  }
 },
 "nbformat": 4,
 "nbformat_minor": 5
}
